{
 "cells": [
  {
   "cell_type": "markdown",
   "id": "d31feef1",
   "metadata": {
    "id": "d31feef1"
   },
   "source": [
    "# BD's Stretch Questions."
   ]
  },
  {
   "cell_type": "markdown",
   "id": "c7aae2d1",
   "metadata": {
    "id": "c7aae2d1"
   },
   "source": [
    "### 1. Prime Number Checker:\n",
    "#### Write a program that checks if a given number is a prime number (a number that is only divisible by 1 and itself)."
   ]
  },
  {
   "cell_type": "code",
   "execution_count": 1,
   "id": "980b95c1",
   "metadata": {
    "id": "980b95c1"
   },
   "outputs": [],
   "source": [
    "#add your code below\n",
    "\n",
    "def is_prime(num):\n",
    "\n",
    "    #check input\n",
    "    if type(num) != int:\n",
    "        return print('Oops! Wrong type of input. Please input an integer.')\n",
    "    elif num <= 0:\n",
    "        return print('Oops! Please input a positive integer.')\n",
    "\n",
    "    #if input ok, proceed with prime check\n",
    "\n",
    "    if num == 1:\n",
    "            return False  #1 is not prime by definition\n",
    "\n",
    "    for i in range(2,num):\n",
    "        if num%i == 0:\n",
    "            print('Not prime')\n",
    "            return False\n",
    "\n",
    "    print('Prime')\n",
    "    return True"
   ]
  },
  {
   "cell_type": "code",
   "execution_count": 2,
   "id": "c4d166a7",
   "metadata": {
    "id": "c4d166a7",
    "outputId": "66037dbc-4ce8-41b2-b264-b0577d88d601"
   },
   "outputs": [
    {
     "name": "stdout",
     "output_type": "stream",
     "text": [
      "Oops! Wrong type of input. Please input an integer.\n",
      "Oops! Please input a positive integer.\n",
      "Oops! Please input a positive integer.\n",
      "Prime\n",
      "Prime\n",
      "Not prime\n",
      "Prime\n",
      "Not prime\n",
      "Prime\n",
      "Not prime\n",
      "Not prime\n",
      "Not prime\n"
     ]
    }
   ],
   "source": [
    "nums = [-2.2,-1,0,1,2,3,4,5,6,7,8,9,10]\n",
    "\n",
    "for num in nums:\n",
    "    is_prime(num)"
   ]
  },
  {
   "cell_type": "markdown",
   "id": "4b0dca9e",
   "metadata": {
    "id": "4b0dca9e"
   },
   "source": [
    "### 2. Print a Triangle:\n",
    "#### Create a program that prints a triangle made of asterisks (*) with a height specified by the user."
   ]
  },
  {
   "cell_type": "code",
   "execution_count": 3,
   "id": "ab5eb098",
   "metadata": {
    "id": "ab5eb098",
    "outputId": "05ea1ed6-37c5-448d-a1c5-3ee9010db5b2"
   },
   "outputs": [
    {
     "name": "stdout",
     "output_type": "stream",
     "text": [
      "Please input a height for your triangle: 5\n",
      "\n",
      "*\n",
      "**\n",
      "***\n",
      "****\n",
      "*****\n"
     ]
    }
   ],
   "source": [
    "#add your code below\n",
    "\n",
    "height = int(input('Please input a height for your triangle: '))\n",
    "\n",
    "print('')\n",
    "for i in range(1,height+1):\n",
    "    print(i*'*')"
   ]
  },
  {
   "cell_type": "markdown",
   "id": "cec648fe",
   "metadata": {
    "id": "cec648fe"
   },
   "source": [
    "### 3. Guess the Number:\n",
    "#### Implement a number guessing game where the computer selects a random number, and the user tries to guess it with hints provided by the computer."
   ]
  },
  {
   "cell_type": "code",
   "execution_count": 4,
   "id": "db82658b",
   "metadata": {
    "id": "db82658b"
   },
   "outputs": [],
   "source": [
    "def guess(nums,turn):\n",
    "    '''Take an input for the guessing game.'''\n",
    "\n",
    "    print(f\"Guess number {turn}\")\n",
    "    while True:\n",
    "        try:\n",
    "            guess = int(input('Pick a number between 1 and 20: '))\n",
    "        except:\n",
    "            # If invalid input (not a number)\n",
    "            print('Oops! Please be sure to input a valid number.')\n",
    "            continue\n",
    "        else:\n",
    "            # Check if number in range\n",
    "            if guess not in nums:\n",
    "                print(\"Oops! Your number is out of the range.\")\n",
    "            else:\n",
    "                break\n",
    "\n",
    "    return guess"
   ]
  },
  {
   "cell_type": "code",
   "execution_count": 5,
   "id": "ac5fdcc2",
   "metadata": {
    "id": "ac5fdcc2"
   },
   "outputs": [],
   "source": [
    "def higher_lower(choice, guess):\n",
    "    '''Check whether an input is higher than the chosen number.'''\n",
    "\n",
    "    close = abs(choice-guess)\n",
    "\n",
    "    if close == 1:\n",
    "        print(\"Ooh! You're so close!\")\n",
    "        print(\"Guess again...\")\n",
    "    elif close <= 3 and guess < choice:\n",
    "        print(\"Getting warm! But you're a bit too low...\")\n",
    "        print(\"Guess again...\")\n",
    "    elif close <= 3 and guess > choice:\n",
    "        print(\"Getting warm! But you're a bit too high...\")\n",
    "        print(\"Guess again...\")\n",
    "    elif guess < choice:\n",
    "        print(\"Nope! Too low!\")\n",
    "        print(\"Guess again...\")\n",
    "    else:\n",
    "        print(\"That's not it! You're too high!\")\n",
    "        print(\"Guess again...\")"
   ]
  },
  {
   "cell_type": "code",
   "execution_count": 6,
   "id": "6af526fb",
   "metadata": {
    "id": "6af526fb"
   },
   "outputs": [],
   "source": [
    "def duplicate_check(guess, guesses):\n",
    "\n",
    "    if guess in guesses:\n",
    "        print(\"You've already guessed that!\")\n",
    "        return True\n",
    "\n",
    "    return False"
   ]
  },
  {
   "cell_type": "code",
   "execution_count": 7,
   "id": "ac5041e7",
   "metadata": {
    "id": "ac5041e7"
   },
   "outputs": [],
   "source": [
    "#add your code below\n",
    "\n",
    "def guessing_game():\n",
    "\n",
    "    import random\n",
    "\n",
    "    nums = list(range(1,21))\n",
    "\n",
    "    # Welcome message\n",
    "    print('Hello! Welcome to the guessing game.')\n",
    "    print('You will be trying to guess the number that I am thinking of between 1 and 20.')\n",
    "    print('You will only have 3 guesses to figure it out.')\n",
    "\n",
    "    # Ask if user ready to play\n",
    "    play = False\n",
    "    ready = input('Are you ready to play? (Please input \"y\" or \"n\") ').lower()\n",
    "\n",
    "    # Check if valid input, then play on \"y\"\n",
    "    while play == False:\n",
    "        if ready not in ['y','n']:\n",
    "            ready = input('Please select a valid input (\"y\" or \"n\"):').lower()\n",
    "        elif ready == 'n':\n",
    "            return print('Ok! See you later!')\n",
    "        elif ready == 'y':\n",
    "            play = True\n",
    "            print('Ok! Here we go!')\n",
    "\n",
    "    while play == True:\n",
    "\n",
    "        # Initialise\n",
    "        turn = 1\n",
    "        guesses = []\n",
    "\n",
    "        # Define the computer's choice\n",
    "        choice = random.choice(nums)\n",
    "\n",
    "        # Take the first guess\n",
    "        guess_1 = guess(nums,turn)\n",
    "        guesses.append(guess_1)\n",
    "\n",
    "        # Check the first guess\n",
    "        if guess_1 == choice:\n",
    "            print('Well done! You got it on the first try!')\n",
    "            play = False\n",
    "            break\n",
    "        else:\n",
    "            higher_lower(choice,guess_1)\n",
    "            turn += 1\n",
    "\n",
    "        # Take the second guess\n",
    "        guess_2 = guess(nums,turn)\n",
    "\n",
    "        # Check for duplicate guesses\n",
    "        while duplicate_check(guess_2,guesses):\n",
    "            guess_2 = guess(nums,turn)\n",
    "        guesses.append(guess_2)\n",
    "\n",
    "        # Check the second guess\n",
    "        if guess_2 == choice:\n",
    "            print('Good job! You guessed the right number!')\n",
    "            play = False\n",
    "            break\n",
    "        else:\n",
    "            higher_lower(choice,guess_2)\n",
    "            turn += 1\n",
    "\n",
    "        # Take the third guess\n",
    "        guess_3 = guess(nums,turn)\n",
    "        guesses.append(guess_3)\n",
    "\n",
    "        # Check the third guess\n",
    "        if guess_3 == choice:\n",
    "            print('Phew! You guessed it just in time!')\n",
    "            print('Nice one!')\n",
    "            play = False\n",
    "            break\n",
    "        else:\n",
    "            print(\"Bad luck!\")\n",
    "            print(f'The number I was thinking of was {choice}.')\n",
    "            print(\"Better luck next time!\")\n",
    "            play = False"
   ]
  },
  {
   "cell_type": "code",
   "execution_count": 8,
   "id": "011e77cc",
   "metadata": {
    "id": "011e77cc",
    "outputId": "e2cf3c5b-fd35-4626-9111-a1e957ad2e45",
    "scrolled": false
   },
   "outputs": [
    {
     "name": "stdout",
     "output_type": "stream",
     "text": [
      "Hello! Welcome to the guessing game.\n",
      "You will be trying to guess the number that I am thinking of between 1 and 20.\n",
      "You will only have 3 guesses to figure it out.\n",
      "Are you ready to play? (Please input \"y\" or \"n\") y\n",
      "Ok! Here we go!\n",
      "Guess number 1\n",
      "Pick a number between 1 and 20: 5\n",
      "Nope! Too low!\n",
      "Guess again...\n",
      "Guess number 2\n",
      "Pick a number between 1 and 20: 10\n",
      "Ooh! You're so close!\n",
      "Guess again...\n",
      "Guess number 3\n",
      "Pick a number between 1 and 20: 11\n",
      "Bad luck!\n",
      "The number I was thinking of was 9.\n",
      "Better luck next time!\n"
     ]
    }
   ],
   "source": [
    "guessing_game()"
   ]
  },
  {
   "cell_type": "markdown",
   "id": "d38fd00e",
   "metadata": {
    "id": "d38fd00e"
   },
   "source": [
    "### 4. Factorial Finder:\n",
    "#### Write a program to find the factorial of a number using both iterative and recursive methods."
   ]
  },
  {
   "cell_type": "code",
   "execution_count": 9,
   "id": "6f219c05",
   "metadata": {
    "id": "6f219c05"
   },
   "outputs": [],
   "source": [
    "# Iterative method\n",
    "\n",
    "def factorial_it(num):\n",
    "\n",
    "    total = 1\n",
    "\n",
    "    if num < 0:\n",
    "        return 'Not defined'\n",
    "    elif num == 0:\n",
    "        return total\n",
    "    else:\n",
    "        for i in range (1,num+1):\n",
    "            total *= i\n",
    "        return total"
   ]
  },
  {
   "cell_type": "code",
   "execution_count": 10,
   "id": "a4d73945",
   "metadata": {
    "id": "a4d73945"
   },
   "outputs": [],
   "source": [
    "# Recursive method\n",
    "\n",
    "def factorial_re(num):\n",
    "\n",
    "    if num < 0:\n",
    "        return 'Not defined'\n",
    "    elif num == 0:\n",
    "        return 1\n",
    "    else:\n",
    "        return num*factorial_re(num-1)"
   ]
  },
  {
   "cell_type": "code",
   "execution_count": 11,
   "id": "f41ff61b",
   "metadata": {
    "id": "f41ff61b",
    "outputId": "d2459269-14f9-4532-c9d8-f13065792b56",
    "scrolled": true
   },
   "outputs": [
    {
     "data": {
      "text/plain": [
       "120"
      ]
     },
     "execution_count": 11,
     "metadata": {},
     "output_type": "execute_result"
    }
   ],
   "source": [
    "factorial_it(5)"
   ]
  },
  {
   "cell_type": "code",
   "execution_count": 12,
   "id": "c2a5e47e",
   "metadata": {
    "id": "c2a5e47e",
    "outputId": "ab68958f-ca15-4536-fa68-f098bd98c6fc"
   },
   "outputs": [
    {
     "data": {
      "text/plain": [
       "120"
      ]
     },
     "execution_count": 12,
     "metadata": {},
     "output_type": "execute_result"
    }
   ],
   "source": [
    "factorial_re(5)"
   ]
  },
  {
   "cell_type": "code",
   "execution_count": 13,
   "id": "99ea3cad",
   "metadata": {
    "id": "99ea3cad",
    "outputId": "cc34b98c-e1f0-44a2-8bea-b81e0f0a11a2"
   },
   "outputs": [
    {
     "data": {
      "text/plain": [
       "True"
      ]
     },
     "execution_count": 13,
     "metadata": {},
     "output_type": "execute_result"
    }
   ],
   "source": [
    "factorial_it(10) == factorial_re(10)"
   ]
  },
  {
   "cell_type": "markdown",
   "id": "c2da4e61",
   "metadata": {
    "id": "c2da4e61"
   },
   "source": [
    "### 5. Palindrome Sentence Checker:\n",
    "#### Extend the palindrome checker to check if a given sentence (ignoring spaces and punctuation) is a palindrome."
   ]
  },
  {
   "cell_type": "code",
   "execution_count": 14,
   "id": "ee1bb994",
   "metadata": {
    "id": "ee1bb994"
   },
   "outputs": [],
   "source": [
    "#add your code below\n",
    "\n",
    "def palindrome(input_string):\n",
    "\n",
    "    # Initialise the string in lower case\n",
    "    forward = input_string.lower()\n",
    "\n",
    "    # Remove non-alphanumeric characters\n",
    "    str_list = []\n",
    "\n",
    "    for char in forward:\n",
    "        if char.isalpha():\n",
    "            str_list.append(char)\n",
    "\n",
    "    forward = ''.join(str_list)\n",
    "\n",
    "    # Create reverse\n",
    "    backward = forward[::-1]\n",
    "\n",
    "    return forward == backward"
   ]
  },
  {
   "cell_type": "code",
   "execution_count": 15,
   "id": "1f6e903c",
   "metadata": {
    "id": "1f6e903c"
   },
   "outputs": [],
   "source": [
    "my_string = 'Sir, I demand, I am a maid named Iris.'"
   ]
  },
  {
   "cell_type": "code",
   "execution_count": 16,
   "id": "d6941560",
   "metadata": {
    "id": "d6941560",
    "outputId": "9fb915a4-30fc-4590-9764-be0f9979bd09"
   },
   "outputs": [
    {
     "data": {
      "text/plain": [
       "True"
      ]
     },
     "execution_count": 16,
     "metadata": {},
     "output_type": "execute_result"
    }
   ],
   "source": [
    "palindrome(my_string)"
   ]
  },
  {
   "cell_type": "markdown",
   "id": "0837367a",
   "metadata": {
    "id": "0837367a"
   },
   "source": [
    "### 6. Simple Calculator:\n",
    "#### Create a basic calculator program that can perform addition, subtraction, multiplication, and division operations based on user input."
   ]
  },
  {
   "cell_type": "code",
   "execution_count": 17,
   "id": "227f480a",
   "metadata": {
    "id": "227f480a"
   },
   "outputs": [],
   "source": [
    "#add your code below\n",
    "\n",
    "def calc():\n",
    "\n",
    "    # Initialize variable\n",
    "    ops = ['+','-','*','/','^','sqrt','!']\n",
    "    input_num = 0\n",
    "\n",
    "\n",
    "    # Take user inputs\n",
    "\n",
    "    # Input operation\n",
    "    print('The following operations are valid on this calculator. Please input the relevant symbol.')\n",
    "    print(\"   Addition: +\")\n",
    "    print(\"   Subtraction: -\")\n",
    "    print(\"   Multiplication: *\")\n",
    "    print(\"   Division: /\")\n",
    "    print(\"   Exponentiation: ^\")\n",
    "    print(\"   Square Root: sqrt\")\n",
    "    print(\"   Factorial: !\")\n",
    "\n",
    "    while True:\n",
    "        op = input('Please input the operation you would like to perform: ')\n",
    "        op = op.lower()\n",
    "        if op in ops:\n",
    "            break\n",
    "        else:\n",
    "            print('That is not a valid input')\n",
    "\n",
    "\n",
    "    # 1-number operations\n",
    "\n",
    "    if op == 'sqrt' or op == '!':\n",
    "\n",
    "        # Input number\n",
    "        while True:\n",
    "            try:\n",
    "                a = float(input(\"Please input your number: \"))\n",
    "            except:\n",
    "                print('That is not a valid input.')\n",
    "            else:\n",
    "                break\n",
    "\n",
    "        # Perform 1-number operations\n",
    "\n",
    "        # Factorial\n",
    "        if op == '!':\n",
    "            return factorial_re(a)\n",
    "\n",
    "        # Square root\n",
    "        if op == 'sqrt':\n",
    "            return a**(0.5)\n",
    "\n",
    "\n",
    "    # 2-number operations\n",
    "\n",
    "    else:\n",
    "        # Input number 1\n",
    "        while True:\n",
    "            try:\n",
    "                a = float(input(\"Please input your first number: \"))\n",
    "            except:\n",
    "                print('That is not a valid input.')\n",
    "            else:\n",
    "                break\n",
    "\n",
    "        # Input number 2\n",
    "        while True:\n",
    "            try:\n",
    "                b = float(input(\"Please input your second number: \"))\n",
    "            except:\n",
    "                print('That is not a valid input.')\n",
    "            else:\n",
    "                break\n",
    "\n",
    "        # Perform operations\n",
    "\n",
    "        # Addition\n",
    "        if op == '+':\n",
    "            return a+b\n",
    "\n",
    "        # Subtraction\n",
    "        if op == '-':\n",
    "            return a-b\n",
    "\n",
    "        # Multiplication\n",
    "        if op == '*':\n",
    "            return a*b\n",
    "\n",
    "        # Division\n",
    "        if op == '/':\n",
    "            if b == 0:\n",
    "                return print(\"Cannot divide by 0.\")\n",
    "            return a/b\n",
    "\n",
    "        # Exponentiation\n",
    "        if op == \"^\":\n",
    "            return a**b"
   ]
  },
  {
   "cell_type": "code",
   "execution_count": 18,
   "id": "2478c2d6",
   "metadata": {
    "id": "2478c2d6",
    "outputId": "38d2dff7-b6ab-4e73-e286-c6f23b8c3ca4",
    "scrolled": true
   },
   "outputs": [
    {
     "name": "stdout",
     "output_type": "stream",
     "text": [
      "The following operations are valid on this calculator. Please input the relevant symbol.\n",
      "   Addition: +\n",
      "   Subtraction: -\n",
      "   Multiplication: *\n",
      "   Division: /\n",
      "   Exponentiation: ^\n",
      "   Square Root: sqrt\n",
      "   Factorial: !\n",
      "Please input the operation you would like to perform: sqrt\n",
      "Please input your number: 2\n"
     ]
    },
    {
     "data": {
      "text/plain": [
       "1.4142135623730951"
      ]
     },
     "execution_count": 18,
     "metadata": {},
     "output_type": "execute_result"
    }
   ],
   "source": [
    "calc()"
   ]
  },
  {
   "cell_type": "markdown",
   "id": "dd58824a",
   "metadata": {
    "id": "dd58824a"
   },
   "source": [
    "### 7. Collatz Conjecture:\n",
    "#### Implement the sequence for a given starting number: If it's even, divide it by 2; if it's odd, multiply it by 3 and add 1. Repeat until you reach 1."
   ]
  },
  {
   "cell_type": "code",
   "execution_count": 19,
   "id": "eb9a19d0",
   "metadata": {
    "id": "eb9a19d0"
   },
   "outputs": [],
   "source": [
    "#add your code below\n",
    "\n",
    "def collatz(num):\n",
    "\n",
    "    while True:\n",
    "        if num == 1:\n",
    "            break\n",
    "        elif num%2 == 0:\n",
    "            num = num/2\n",
    "            print(num)\n",
    "        else:\n",
    "            num = num*3 + 1\n",
    "            print(num)"
   ]
  },
  {
   "cell_type": "code",
   "execution_count": 22,
   "id": "51898af3",
   "metadata": {
    "id": "51898af3",
    "outputId": "e2570268-fba5-4839-f109-ab0f3fe14b8d"
   },
   "outputs": [
    {
     "name": "stdout",
     "output_type": "stream",
     "text": [
      "40\n",
      "20.0\n",
      "10.0\n",
      "5.0\n",
      "16.0\n",
      "8.0\n",
      "4.0\n",
      "2.0\n",
      "1.0\n"
     ]
    }
   ],
   "source": [
    "collatz(13)"
   ]
  },
  {
   "cell_type": "markdown",
   "id": "e8cfd52a",
   "metadata": {
    "id": "e8cfd52a"
   },
   "source": [
    "### 8. Print a Diamond:\n",
    "#### Write a program that prints a diamond shape made of asterisks (*) with a specified size by the user."
   ]
  },
  {
   "cell_type": "code",
   "execution_count": 24,
   "id": "cac05eb9",
   "metadata": {
    "id": "cac05eb9",
    "outputId": "c790e248-9ae3-4123-da77-74420b9d02b7"
   },
   "outputs": [
    {
     "name": "stdout",
     "output_type": "stream",
     "text": [
      "Please input a size of the sides for your diamond: 10\n",
      "\n",
      "         *\n",
      "        ***\n",
      "       *****\n",
      "      *******\n",
      "     *********\n",
      "    ***********\n",
      "   *************\n",
      "  ***************\n",
      " *****************\n",
      "*******************\n",
      " *****************\n",
      "  ***************\n",
      "   *************\n",
      "    ***********\n",
      "     *********\n",
      "      *******\n",
      "       *****\n",
      "        ***\n",
      "         *\n"
     ]
    }
   ],
   "source": [
    "#add your code below\n",
    "\n",
    "size = int(input('Please input a size of the sides for your diamond: '))\n",
    "\n",
    "print('')\n",
    "for i in range(1,size+1):\n",
    "    print((size-i)*' ' + i*'*' + (i-1)*'*')\n",
    "for i in range(size-1,0,-1):\n",
    "    print((size-i)*' ' + i*'*' + (i-1)*'*')"
   ]
  },
  {
   "cell_type": "markdown",
   "id": "a79c0e09",
   "metadata": {
    "id": "a79c0e09"
   },
   "source": [
    "### 9. Morse Code Translator:\n",
    "#### Build a program that translates text to Morse code and vice versa. You'll need to define the mapping of characters to Morse code."
   ]
  },
  {
   "cell_type": "code",
   "execution_count": 25,
   "id": "f6ce9839",
   "metadata": {
    "id": "f6ce9839"
   },
   "outputs": [],
   "source": [
    "# Morse dictionary\n",
    "\n",
    "morse_code = {\n",
    "    'a':'.-',\n",
    "    'b':'-...',\n",
    "    'c':'-.-.',\n",
    "    'd':'-..',\n",
    "    'e':'.',\n",
    "    'f':'..-.',\n",
    "    'g':'--.',\n",
    "    'h':'....',\n",
    "    'i':'..',\n",
    "    'j':'.---',\n",
    "    'k':'-.-',\n",
    "    'l':'.-..',\n",
    "    'm':'--',\n",
    "    'n':'-.',\n",
    "    'o':'---',\n",
    "    'p':'.--.',\n",
    "    'q':'--.-',\n",
    "    'r':'.-.',\n",
    "    's':'...',\n",
    "    't':'-',\n",
    "    'u':'..-',\n",
    "    'v':'...-',\n",
    "    'w':'.--',\n",
    "    'x':'-..-',\n",
    "    'y':'-.--',\n",
    "    'z':'--..',\n",
    "    '1':'.----',\n",
    "    '2':'..---',\n",
    "    '3':'...--',\n",
    "    '4':'....-',\n",
    "    '5':'.....',\n",
    "    '6':'-....',\n",
    "    '7':'--...',\n",
    "    '8':'---..',\n",
    "    '9':'----.',\n",
    "    '0':'-----',\n",
    "    ' ':'  ',\n",
    "    '.':'.-.-.-',\n",
    "    ',':'--..--',\n",
    "    '?':'..--..',\n",
    "    '!':'-.-.--',\n",
    "    \"'\":'.----.',\n",
    "    '(':'-.--.',\n",
    "    ')':'-.--.-',\n",
    "    ':':'---...',\n",
    "    ';':'-.-.-.',\n",
    "    '-':'-....-'\n",
    "    }"
   ]
  },
  {
   "cell_type": "code",
   "execution_count": 26,
   "id": "1fd99028",
   "metadata": {
    "id": "1fd99028"
   },
   "outputs": [],
   "source": [
    "def text_to_morse(input_str):\n",
    "\n",
    "    global morse_code\n",
    "\n",
    "    # Initialise list\n",
    "    message_list = []\n",
    "\n",
    "    # Make message lower case (Morse code doesn't differentiate case)\n",
    "    input_str = input_str.lower()\n",
    "\n",
    "    # Convert characters to Morse code equivalent\n",
    "    for char in input_str:\n",
    "        char_m = morse_code[char]\n",
    "        message_list.append(char_m)\n",
    "\n",
    "    message_m = ' '.join(message_list)\n",
    "\n",
    "    return message_m\n"
   ]
  },
  {
   "cell_type": "code",
   "execution_count": 27,
   "id": "1e4364a2",
   "metadata": {
    "id": "1e4364a2",
    "scrolled": false
   },
   "outputs": [
    {
     "data": {
      "text/plain": [
       "'.... . .-.. .-.. ---    -.. .- .-. -.- -. . ... ... --..--    -- -.--    --- .-.. -..    ..-. .-. .. . -. -.. .-.-.-    .. .----. ...- .    -.-. --- -- .    - ---    - .- .-.. -.-    .-- .. - ....    -.-- --- ..-    .- --. .- .. -. .-.-.-'"
      ]
     },
     "execution_count": 27,
     "metadata": {},
     "output_type": "execute_result"
    }
   ],
   "source": [
    "text_to_morse(\"Hello darkness, my old friend. I've come to talk with you again.\")"
   ]
  },
  {
   "cell_type": "code",
   "execution_count": 28,
   "id": "ab6aeda5",
   "metadata": {
    "id": "ab6aeda5"
   },
   "outputs": [],
   "source": [
    "def morse_to_text(input_m):\n",
    "\n",
    "    global morse_code\n",
    "\n",
    "    # Initialise lists\n",
    "    message_list = []\n",
    "\n",
    "    # Remove spaces\n",
    "    word_m_list = input_m.split('   ')\n",
    "\n",
    "    # Create lists of keys and values\n",
    "    keys = list(morse_code.keys())\n",
    "    values = list(morse_code.values())\n",
    "\n",
    "    # Convert Morse code to equivalent character\n",
    "    for i, word_m in enumerate(word_m_list):\n",
    "        chars_m = word_m.split()\n",
    "        letter_list = []\n",
    "        for char_m in chars_m:\n",
    "            char = keys[values.index(char_m)]\n",
    "            letter_list.append(char)\n",
    "        word = ''.join(letter_list)\n",
    "        message_list.append(word)\n",
    "\n",
    "    message = ' '.join(message_list)\n",
    "\n",
    "    return message"
   ]
  },
  {
   "cell_type": "code",
   "execution_count": 29,
   "id": "c85656e8",
   "metadata": {
    "id": "c85656e8",
    "scrolled": true
   },
   "outputs": [
    {
     "data": {
      "text/plain": [
       "\"hello darkness, my old friend. i've come to talk with you again.\""
      ]
     },
     "execution_count": 29,
     "metadata": {},
     "output_type": "execute_result"
    }
   ],
   "source": [
    "morse_to_text('.... . .-.. .-.. ---    -.. .- .-. -.- -. . ... ... --..--    -- -.--    --- .-.. -..    ..-. .-. .. . -. -.. .-.-.-    .. .----. ...- .    -.-. --- -- .    - ---    - .- .-.. -.-    .-- .. - ....    -.-- --- ..-    .- --. .- .. -. .-.-.-')"
   ]
  },
  {
   "cell_type": "code",
   "execution_count": 30,
   "id": "34cb3d40",
   "metadata": {
    "id": "34cb3d40"
   },
   "outputs": [],
   "source": [
    "def morse_translator():\n",
    "\n",
    "    print('This translator can convert from ordinary text to Morse Code, and Morse Code to ordinary text.')\n",
    "    while True:\n",
    "        choice = input('Is the message you would like to translate in  ordinary text or Morse Code?\\n[Please type either \"t\" or \"m\"] ')\n",
    "        if choice in ['t','m']:\n",
    "            break\n",
    "        else:\n",
    "            print('Sorry, that is not a valid input.')\n",
    "\n",
    "    if choice == 't':\n",
    "        message = input('Please input your message in ordinary text: ')\n",
    "        translated_message = text_to_morse(message)\n",
    "        print('Your message translated intp Morse Code is:')\n",
    "        return translated_message\n",
    "    elif choice == 'm':\n",
    "        message = input('Please input your message in Morse Code: ')\n",
    "        translated_message = morse_to_text(message)\n",
    "        print('Your Morse Code message in ordinary text is:')\n",
    "        return translated_message"
   ]
  },
  {
   "cell_type": "code",
   "execution_count": 31,
   "id": "a4c6c38a",
   "metadata": {
    "id": "a4c6c38a",
    "outputId": "11873f06-2c04-4947-9244-c1cec6328993"
   },
   "outputs": [
    {
     "name": "stdout",
     "output_type": "stream",
     "text": [
      "This translator can convert from ordinary text to Morse Code, and Morse Code to ordinary text.\n",
      "Is the message you would like to translate in  ordinary text or Morse Code?\n",
      "[Please type either \"t\" or \"m\"] t\n",
      "Please input your message in ordinary text: Hello darkness, my old friend.\n",
      "Your message translated intp Morse Code is:\n"
     ]
    },
    {
     "data": {
      "text/plain": [
       "'.... . .-.. .-.. ---    -.. .- .-. -.- -. . ... ... --..--    -- -.--    --- .-.. -..    ..-. .-. .. . -. -.. .-.-.-'"
      ]
     },
     "execution_count": 31,
     "metadata": {},
     "output_type": "execute_result"
    }
   ],
   "source": [
    "morse_translator()"
   ]
  },
  {
   "cell_type": "markdown",
   "id": "3a8240b7",
   "metadata": {
    "id": "3a8240b7"
   },
   "source": [
    "### 10. Hangman Game:\n",
    "#### Create a simple text-based version of the classic Hangman game where the user tries to guess a hidden word."
   ]
  },
  {
   "cell_type": "code",
   "execution_count": 32,
   "id": "UW8Q24vQPidc",
   "metadata": {
    "colab": {
     "base_uri": "https://localhost:8080/"
    },
    "executionInfo": {
     "elapsed": 4,
     "status": "ok",
     "timestamp": 1699888392788,
     "user": {
      "displayName": "Bertie Dickinson",
      "userId": "07964044905184991534"
     },
     "user_tz": 0
    },
    "id": "UW8Q24vQPidc",
    "outputId": "963ce1d9-8a43-46ea-ed2b-6d1d23897e14"
   },
   "outputs": [
    {
     "name": "stdout",
     "output_type": "stream",
     "text": [
      "hello\n"
     ]
    }
   ],
   "source": [
    "print('hello')"
   ]
  },
  {
   "cell_type": "code",
   "execution_count": 33,
   "id": "7704da49",
   "metadata": {
    "executionInfo": {
     "elapsed": 2,
     "status": "ok",
     "timestamp": 1699888401270,
     "user": {
      "displayName": "Bertie Dickinson",
      "userId": "07964044905184991534"
     },
     "user_tz": 0
    },
    "id": "7704da49"
   },
   "outputs": [],
   "source": [
    "def display(lst):\n",
    "    print('')\n",
    "    print(' '.join(lst))"
   ]
  },
  {
   "cell_type": "code",
   "execution_count": 34,
   "id": "0e0020b3",
   "metadata": {
    "executionInfo": {
     "elapsed": 2,
     "status": "ok",
     "timestamp": 1699888401692,
     "user": {
      "displayName": "Bertie Dickinson",
      "userId": "07964044905184991534"
     },
     "user_tz": 0
    },
    "id": "0e0020b3"
   },
   "outputs": [],
   "source": [
    "def guess():\n",
    "\n",
    "    while True:\n",
    "        guess = input('Pick a letter to guess: ')\n",
    "        if guess.isalpha():\n",
    "            if len(guess) ==1:\n",
    "                return guess\n",
    "            else:\n",
    "                print('Please input only one letter.')\n",
    "        else:\n",
    "            print('Please input a valid letter.')"
   ]
  },
  {
   "cell_type": "code",
   "execution_count": 35,
   "id": "40e357ab",
   "metadata": {
    "executionInfo": {
     "elapsed": 664,
     "status": "ok",
     "timestamp": 1699888405636,
     "user": {
      "displayName": "Bertie Dickinson",
      "userId": "07964044905184991534"
     },
     "user_tz": 0
    },
    "id": "40e357ab"
   },
   "outputs": [],
   "source": [
    "def duplicate_check(guess, guesses):\n",
    "\n",
    "    if guess in guesses:\n",
    "        print(\"You've already guessed that!\")\n",
    "        return True\n",
    "\n",
    "    return False"
   ]
  },
  {
   "cell_type": "code",
   "execution_count": 36,
   "id": "edef87a7",
   "metadata": {
    "executionInfo": {
     "elapsed": 2,
     "status": "ok",
     "timestamp": 1699888405901,
     "user": {
      "displayName": "Bertie Dickinson",
      "userId": "07964044905184991534"
     },
     "user_tz": 0
    },
    "id": "edef87a7"
   },
   "outputs": [],
   "source": [
    "def replace(board, word_list, guess):\n",
    "\n",
    "    for i, letter in enumerate(word_list):\n",
    "        if letter == guess:\n",
    "            board[i] = guess\n",
    "\n",
    "    return board"
   ]
  },
  {
   "cell_type": "code",
   "execution_count": 37,
   "id": "36edbb00",
   "metadata": {
    "executionInfo": {
     "elapsed": 3,
     "status": "ok",
     "timestamp": 1699888770229,
     "user": {
      "displayName": "Bertie Dickinson",
      "userId": "07964044905184991534"
     },
     "user_tz": 0
    },
    "id": "36edbb00"
   },
   "outputs": [],
   "source": [
    "#add your code below\n",
    "\n",
    "def hangman():\n",
    "\n",
    "    import random\n",
    "\n",
    "    # Initialise words to guess\n",
    "    words = ['hello', 'world', 'monty', 'python','data','antidisestablishmentarianism']\n",
    "    congrats = ['Nice one!', 'Well done!', 'You got one!', 'Good job!', 'Wow!']\n",
    "    fail = ['Oops!', 'Better luck next time!', 'Bad luck!', 'Oh no!']\n",
    "\n",
    "    # Welcome message\n",
    "    print('Hello! Welcome to this game of hangman.')\n",
    "    print('You will be trying to guess the word that I am thinking of.')\n",
    "\n",
    "    # Ask if user ready to play\n",
    "    play = False\n",
    "    ready = input('Are you ready to play? (Please input \"y\" or \"n\") ').lower()\n",
    "\n",
    "    # Check if valid input, then play on \"y\"\n",
    "    while play == False:\n",
    "        if ready not in ['y','n']:\n",
    "            ready = input('Please select a valid input (\"y\" or \"n\"):').lower()\n",
    "        elif ready == 'n':\n",
    "            return print('Ok! See you later!')\n",
    "        elif ready == 'y':\n",
    "            play = True\n",
    "            print('Ok! Here we go!')\n",
    "\n",
    "    while play == True:\n",
    "\n",
    "        # Define the computer's choice\n",
    "        choice = random.choice(words)\n",
    "        choice_list = list(choice)\n",
    "        choice_set = set(choice)\n",
    "\n",
    "        # Initialise\n",
    "        turn = 1\n",
    "        guesses = []\n",
    "        guess_num = len(choice)+5\n",
    "        board = []\n",
    "        for i in range(1,len(choice)+1):\n",
    "            board.append('_')\n",
    "\n",
    "\n",
    "        # Display number of guesses\n",
    "        print(f'You will only have {guess_num} guesses to figure it out.')\n",
    "        print('')\n",
    "        print('***')\n",
    "\n",
    "        while turn <= guess_num:\n",
    "\n",
    "            # Display the empty board of the right length, then take guess and check\n",
    "            print('')\n",
    "            print(f'Turn {turn}')\n",
    "            display(board)\n",
    "            player_guess = guess()\n",
    "            while duplicate_check(player_guess,guesses):\n",
    "                player_guess = guess()\n",
    "            guesses.append(player_guess)\n",
    "\n",
    "            # Check if letter in word, and put in place if it is\n",
    "            if player_guess in choice_set:\n",
    "                print(random.choice(congrats))\n",
    "                replace(board, choice, player_guess)\n",
    "\n",
    "                # Success check\n",
    "                if '_' not in board:\n",
    "                    print('')\n",
    "                    print('You got it!')\n",
    "                    print(f'The word was: {choice}')\n",
    "                    print('Well done!')\n",
    "                    play = False\n",
    "                    return\n",
    "            else:\n",
    "                print(random.choice(fail))\n",
    "\n",
    "            turn += 1\n",
    "\n",
    "\n",
    "        # Fail if turns exceeded\n",
    "        display(board)\n",
    "        print('')\n",
    "        print(\"Oh no! You've run out of guesses!\")\n",
    "        print(f'The word was: {choice}')\n",
    "        print('Better luck next time!')\n",
    "        play = False\n",
    "        break\n",
    "\n",
    "\n"
   ]
  },
  {
   "cell_type": "code",
   "execution_count": 38,
   "id": "f0ad1160",
   "metadata": {
    "colab": {
     "base_uri": "https://localhost:8080/"
    },
    "executionInfo": {
     "elapsed": 360993,
     "status": "ok",
     "timestamp": 1699888770229,
     "user": {
      "displayName": "Bertie Dickinson",
      "userId": "07964044905184991534"
     },
     "user_tz": 0
    },
    "id": "f0ad1160",
    "outputId": "5408299c-6c7e-4fd6-ff0c-2b099d5fcda7",
    "scrolled": false
   },
   "outputs": [
    {
     "name": "stdout",
     "output_type": "stream",
     "text": [
      "Hello! Welcome to this game of hangman.\n",
      "You will be trying to guess the word that I am thinking of.\n",
      "Are you ready to play? (Please input \"y\" or \"n\") y\n",
      "Ok! Here we go!\n",
      "You will only have 10 guesses to figure it out.\n",
      "\n",
      "***\n",
      "\n",
      "Turn 1\n",
      "\n",
      "_ _ _ _ _\n",
      "Pick a letter to guess: o\n",
      "You got one!\n",
      "\n",
      "Turn 2\n",
      "\n",
      "_ _ _ _ o\n",
      "Pick a letter to guess: l\n",
      "You got one!\n",
      "\n",
      "Turn 3\n",
      "\n",
      "_ _ l l o\n",
      "Pick a letter to guess: h\n",
      "Good job!\n",
      "\n",
      "Turn 4\n",
      "\n",
      "h _ l l o\n",
      "Pick a letter to guess: e\n",
      "Nice one!\n",
      "\n",
      "You got it!\n",
      "The word was: hello\n",
      "Well done!\n"
     ]
    }
   ],
   "source": [
    "hangman()"
   ]
  }
 ],
 "metadata": {
  "colab": {
   "provenance": []
  },
  "kernelspec": {
   "display_name": "Python 3 (ipykernel)",
   "language": "python",
   "name": "python3"
  },
  "language_info": {
   "codemirror_mode": {
    "name": "ipython",
    "version": 3
   },
   "file_extension": ".py",
   "mimetype": "text/x-python",
   "name": "python",
   "nbconvert_exporter": "python",
   "pygments_lexer": "ipython3",
   "version": "3.11.5"
  }
 },
 "nbformat": 4,
 "nbformat_minor": 5
}
