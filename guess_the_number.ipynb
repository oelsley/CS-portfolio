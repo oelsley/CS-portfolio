{
 "cells": [
  {
   "cell_type": "markdown",
   "id": "d31feef1",
   "metadata": {
    "id": "d31feef1"
   },
   "source": [
    "# Guess the Number!\n",
    "\n",
    "### Code\n",
    "\n",
    "Scroll past to run the game"
   ]
  },
  {
   "cell_type": "code",
   "execution_count": 4,
   "id": "db82658b",
   "metadata": {
    "id": "db82658b"
   },
   "outputs": [],
   "source": [
    "def guess(nums,turn):\n",
    "    '''Take an input for the guessing game.'''\n",
    "\n",
    "    print(f\"Guess number {turn}\")\n",
    "    while True:\n",
    "        try:\n",
    "            guess = int(input('Pick a number between 1 and 20: '))\n",
    "        except:\n",
    "            # If invalid input (not a number)\n",
    "            print('Oops! Please be sure to input a valid number.')\n",
    "            continue\n",
    "        else:\n",
    "            # Check if number in range\n",
    "            if guess not in nums:\n",
    "                print(\"Oops! Your number is out of the range.\")\n",
    "            else:\n",
    "                break\n",
    "\n",
    "    return guess"
   ]
  },
  {
   "cell_type": "code",
   "execution_count": 5,
   "id": "ac5fdcc2",
   "metadata": {
    "id": "ac5fdcc2"
   },
   "outputs": [],
   "source": [
    "def higher_lower(choice, guess):\n",
    "    '''Check whether an input is higher than the chosen number.'''\n",
    "\n",
    "    close = abs(choice-guess)\n",
    "\n",
    "    if close == 1:\n",
    "        print(\"Ooh! You're so close!\")\n",
    "        print(\"Guess again...\")\n",
    "    elif close <= 3 and guess < choice:\n",
    "        print(\"Getting warm! But you're a bit too low...\")\n",
    "        print(\"Guess again...\")\n",
    "    elif close <= 3 and guess > choice:\n",
    "        print(\"Getting warm! But you're a bit too high...\")\n",
    "        print(\"Guess again...\")\n",
    "    elif guess < choice:\n",
    "        print(\"Nope! Too low!\")\n",
    "        print(\"Guess again...\")\n",
    "    else:\n",
    "        print(\"That's not it! You're too high!\")\n",
    "        print(\"Guess again...\")"
   ]
  },
  {
   "cell_type": "code",
   "execution_count": 6,
   "id": "6af526fb",
   "metadata": {
    "id": "6af526fb"
   },
   "outputs": [],
   "source": [
    "def duplicate_check(guess, guesses):\n",
    "\n",
    "    if guess in guesses:\n",
    "        print(\"You've already guessed that!\")\n",
    "        return True\n",
    "\n",
    "    return False"
   ]
  },
  {
   "cell_type": "code",
   "execution_count": 7,
   "id": "ac5041e7",
   "metadata": {
    "id": "ac5041e7"
   },
   "outputs": [],
   "source": [
    "#add your code below\n",
    "\n",
    "def guessing_game():\n",
    "\n",
    "    import random\n",
    "\n",
    "    nums = list(range(1,21))\n",
    "\n",
    "    # Welcome message\n",
    "    print('Hello! Welcome to the guessing game.')\n",
    "    print('You will be trying to guess the number that I am thinking of between 1 and 20.')\n",
    "    print('You will only have 3 guesses to figure it out.')\n",
    "\n",
    "    # Ask if user ready to play\n",
    "    play = False\n",
    "    ready = input('Are you ready to play? (Please input \"y\" or \"n\") ').lower()\n",
    "\n",
    "    # Check if valid input, then play on \"y\"\n",
    "    while play == False:\n",
    "        if ready not in ['y','n']:\n",
    "            ready = input('Please select a valid input (\"y\" or \"n\"):').lower()\n",
    "        elif ready == 'n':\n",
    "            return print('Ok! See you later!')\n",
    "        elif ready == 'y':\n",
    "            play = True\n",
    "            print('Ok! Here we go!')\n",
    "\n",
    "    while play == True:\n",
    "\n",
    "        # Initialise\n",
    "        turn = 1\n",
    "        guesses = []\n",
    "\n",
    "        # Define the computer's choice\n",
    "        choice = random.choice(nums)\n",
    "\n",
    "        # Take the first guess\n",
    "        guess_1 = guess(nums,turn)\n",
    "        guesses.append(guess_1)\n",
    "\n",
    "        # Check the first guess\n",
    "        if guess_1 == choice:\n",
    "            print('Well done! You got it on the first try!')\n",
    "            play = False\n",
    "            break\n",
    "        else:\n",
    "            higher_lower(choice,guess_1)\n",
    "            turn += 1\n",
    "\n",
    "        # Take the second guess\n",
    "        guess_2 = guess(nums,turn)\n",
    "\n",
    "        # Check for duplicate guesses\n",
    "        while duplicate_check(guess_2,guesses):\n",
    "            guess_2 = guess(nums,turn)\n",
    "        guesses.append(guess_2)\n",
    "\n",
    "        # Check the second guess\n",
    "        if guess_2 == choice:\n",
    "            print('Good job! You guessed the right number!')\n",
    "            play = False\n",
    "            break\n",
    "        else:\n",
    "            higher_lower(choice,guess_2)\n",
    "            turn += 1\n",
    "\n",
    "        # Take the third guess\n",
    "        guess_3 = guess(nums,turn)\n",
    "        guesses.append(guess_3)\n",
    "\n",
    "        # Check the third guess\n",
    "        if guess_3 == choice:\n",
    "            print('Phew! You guessed it just in time!')\n",
    "            print('Nice one!')\n",
    "            play = False\n",
    "            break\n",
    "        else:\n",
    "            print(\"Bad luck!\")\n",
    "            print(f'The number I was thinking of was {choice}.')\n",
    "            print(\"Better luck next time!\")\n",
    "            play = False"
   ]
  },
  {
   "cell_type": "markdown",
   "id": "15288659",
   "metadata": {},
   "source": [
    "## Play the game\n",
    "\n",
    "#### Run the cell below to play"
   ]
  },
  {
   "cell_type": "code",
   "execution_count": 5,
   "id": "011e77cc",
   "metadata": {
    "id": "011e77cc",
    "outputId": "e2cf3c5b-fd35-4626-9111-a1e957ad2e45",
    "scrolled": false
   },
   "outputs": [
    {
     "ename": "NameError",
     "evalue": "name 'guessing_game' is not defined",
     "output_type": "error",
     "traceback": [
      "\u001b[1;31m---------------------------------------------------------------------------\u001b[0m",
      "\u001b[1;31mNameError\u001b[0m                                 Traceback (most recent call last)",
      "Cell \u001b[1;32mIn[5], line 1\u001b[0m\n\u001b[1;32m----> 1\u001b[0m guessing_game()\n",
      "\u001b[1;31mNameError\u001b[0m: name 'guessing_game' is not defined"
     ]
    }
   ],
   "source": [
    "guessing_game()"
   ]
  },
  {
   "cell_type": "code",
   "execution_count": null,
   "id": "04e5c5e6",
   "metadata": {},
   "outputs": [],
   "source": []
  }
 ],
 "metadata": {
  "colab": {
   "provenance": []
  },
  "kernelspec": {
   "display_name": "Python 3 (ipykernel)",
   "language": "python",
   "name": "python3"
  },
  "language_info": {
   "codemirror_mode": {
    "name": "ipython",
    "version": 3
   },
   "file_extension": ".py",
   "mimetype": "text/x-python",
   "name": "python",
   "nbconvert_exporter": "python",
   "pygments_lexer": "ipython3",
   "version": "3.11.5"
  }
 },
 "nbformat": 4,
 "nbformat_minor": 5
}
